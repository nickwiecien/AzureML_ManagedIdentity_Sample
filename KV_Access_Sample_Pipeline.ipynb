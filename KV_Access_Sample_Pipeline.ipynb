{
 "cells": [
  {
   "cell_type": "code",
   "execution_count": null,
   "id": "860216d8",
   "metadata": {},
   "outputs": [],
   "source": [
    "#Connect to AML workspace\n",
    "from azureml.core import Workspace\n",
    "\n",
    "ws = Workspace.from_config()"
   ]
  },
  {
   "cell_type": "code",
   "execution_count": null,
   "id": "a44234b8",
   "metadata": {},
   "outputs": [],
   "source": [
    "#Select AML Compute Cluster\n",
    "cpu_cluster_name = 'amlcluster'\n",
    "\n",
    "from azureml.core.compute import ComputeTarget, AmlCompute\n",
    "from azureml.core.compute_target import ComputeTargetException\n",
    "\n",
    "# Verify that cluster does not exist already\n",
    "try:\n",
    "    cpu_cluster = ComputeTarget(workspace=ws, name=cpu_cluster_name)\n",
    "    print('Found an existing cluster, using it instead.')\n",
    "except ComputeTargetException:\n",
    "    #When creating a new cluster, use the identity_type argument to attach a system- or user-assigned managed identity\n",
    "    compute_config = AmlCompute.provisioning_configuration(vm_size='STANDARD_D13_V2',\n",
    "                                                           min_nodes=0,\n",
    "                                                           max_nodes=10,\n",
    "                                                           identity_type='SystemAssigned')\n",
    "    cpu_cluster = ComputeTarget.create(ws, cpu_cluster_name, compute_config)\n",
    "    cpu_cluster.wait_for_completion(show_output=True)"
   ]
  },
  {
   "cell_type": "code",
   "execution_count": null,
   "id": "7c78b252",
   "metadata": {},
   "outputs": [],
   "source": [
    "#Create Experiment\n",
    "from azureml.core import Experiment\n",
    "experiment = Experiment(ws, 'managed-identity-test')"
   ]
  },
  {
   "cell_type": "code",
   "execution_count": null,
   "id": "c39b6b0b",
   "metadata": {},
   "outputs": [],
   "source": [
    "from azureml.core.runconfig import RunConfiguration\n",
    "from azureml.core.conda_dependencies import CondaDependencies\n",
    "from azureml.core.runconfig import DEFAULT_CPU_IMAGE\n",
    "from azureml.pipeline.core import Pipeline\n",
    "from azureml.pipeline.steps import PythonScriptStep\n",
    "from azureml.pipeline.core import PipelineParameter, PipelineData\n",
    "from azureml.data import OutputFileDatasetConfig\n",
    "\n",
    "# create a new runconfig object\n",
    "test_kv_run_config = RunConfiguration()\n",
    "\n",
    "# enable Docker \n",
    "test_kv_run_config.environment.docker.enabled = True\n",
    "\n",
    "# set Docker base image to the default CPU-based image\n",
    "test_kv_run_config.environment.docker.base_image = DEFAULT_CPU_IMAGE\n",
    "\n",
    "# use conda_dependencies.yml to create a conda environment in the Docker image for execution\n",
    "test_kv_run_config.environment.python.user_managed_dependencies = False\n",
    "\n",
    "test_kv_run_config.environment.python.conda_dependencies.add_pip_package('azure-keyvault')"
   ]
  },
  {
   "cell_type": "code",
   "execution_count": null,
   "id": "68d61c80",
   "metadata": {},
   "outputs": [],
   "source": [
    "#Create PythonScriptStep to gather data from remote source and register as AML dataset\n",
    "test_kv_access_step = PythonScriptStep(\n",
    "    script_name=\"test_kv_access.py\", \n",
    "    compute_target=cpu_cluster, \n",
    "    source_directory='.',\n",
    "    allow_reuse=False,\n",
    "    runconfig=test_kv_run_config\n",
    ")\n"
   ]
  },
  {
   "cell_type": "code",
   "execution_count": null,
   "id": "81424b8d",
   "metadata": {},
   "outputs": [],
   "source": [
    "pipeline = Pipeline(workspace=ws, steps=[test_kv_access_step])\n",
    "run = experiment.submit(pipeline)\n",
    "run.wait_for_completion(show_output=True)"
   ]
  }
 ],
 "metadata": {
  "kernelspec": {
   "display_name": "Python 3.6 - AzureML",
   "language": "python",
   "name": "python3-azureml"
  },
  "language_info": {
   "codemirror_mode": {
    "name": "ipython",
    "version": 3
   },
   "file_extension": ".py",
   "mimetype": "text/x-python",
   "name": "python",
   "nbconvert_exporter": "python",
   "pygments_lexer": "ipython3",
   "version": "3.6.9"
  }
 },
 "nbformat": 4,
 "nbformat_minor": 5
}